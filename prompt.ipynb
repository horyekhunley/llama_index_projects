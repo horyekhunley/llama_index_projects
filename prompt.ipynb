{
 "cells": [
  {
   "cell_type": "code",
   "execution_count": 14,
   "metadata": {},
   "outputs": [],
   "source": [
    "!pip install -qU llama-index huggingface_hub llama-index-llms-huggingface-api llama-index-llms-ollama llama-index-readers-web"
   ]
  },
  {
   "cell_type": "code",
   "execution_count": 19,
   "metadata": {},
   "outputs": [],
   "source": [
    "from IPython.display import Markdown, display"
   ]
  },
  {
   "cell_type": "code",
   "execution_count": 2,
   "metadata": {},
   "outputs": [
    {
     "name": "stderr",
     "output_type": "stream",
     "text": [
      "/home/mahbub/Documents/dev/llama_index_projects/.conda/lib/python3.11/site-packages/tqdm/auto.py:21: TqdmWarning: IProgress not found. Please update jupyter and ipywidgets. See https://ipywidgets.readthedocs.io/en/stable/user_install.html\n",
      "  from .autonotebook import tqdm as notebook_tqdm\n"
     ]
    }
   ],
   "source": [
    "import os\n",
    "from getpass import getpass\n",
    "from huggingface_hub import login"
   ]
  },
  {
   "cell_type": "code",
   "execution_count": 3,
   "metadata": {},
   "outputs": [],
   "source": [
    "hf_token = getpass()"
   ]
  },
  {
   "cell_type": "code",
   "execution_count": 4,
   "metadata": {},
   "outputs": [
    {
     "name": "stdout",
     "output_type": "stream",
     "text": [
      "Token is valid (permission: write).\n",
      "\u001b[1m\u001b[31mCannot authenticate through git-credential as no helper is defined on your machine.\n",
      "You might have to re-authenticate when pushing to the Hugging Face Hub.\n",
      "Run the following command in your terminal in case you want to set the 'store' credential helper as default.\n",
      "\n",
      "git config --global credential.helper store\n",
      "\n",
      "Read https://git-scm.com/book/en/v2/Git-Tools-Credential-Storage for more details.\u001b[0m\n",
      "Token has not been saved to git credential helper.\n",
      "Your token has been saved to /home/mahbub/.cache/huggingface/token\n",
      "Login successful\n"
     ]
    }
   ],
   "source": [
    "login(token=hf_token, add_to_git_credential=True)"
   ]
  },
  {
   "cell_type": "code",
   "execution_count": 5,
   "metadata": {},
   "outputs": [],
   "source": [
    "with open(\"best.txt\", \"r\", encoding=\"utf-8\") as f:\n",
    "  text = f.read()"
   ]
  },
  {
   "cell_type": "code",
   "execution_count": 6,
   "metadata": {},
   "outputs": [
    {
     "data": {
      "text/plain": [
       "'Despite its title this isn\\'t meant to be the best essay. My goal here is to figure out what the best essay would be like.\\n\\nIt would be well-written, but you can write well about any topic. What made it special would be what it was about.\\n\\nObviously some topics would be better than others. It probably wouldn\\'t be about this year\\'s lipstick colors. But it wouldn\\'t be vaporous talk about elevated themes either. A good essay has to be surprising. It has to tell people something they don\\'t already know.\\n\\nThe best essay would be on the most important topic you could tell people something surprising about.\\n\\nThat may sound obvious, but it has some unexpected consequences. One is that science enters the picture like an elephant stepping into a rowboat. For example, Darwin first described the idea of natural selection in an essay written in 1844. Talk about an important topic you could tell people something surprising about. If that\\'s the test of a great essay, this was surely the best one written in 1844. And indeed, the best possible essay at any given time would usually be one describing the most important scientific or technological discovery it was possible to make. [1]\\n\\nAnother unexpected consequence: I imagined when I started writing this that the best essay would be fairly timeless — that the best essay you could write in 1844 would be much the same as the best one you could write now. But in fact the opposite seems to be true. It might be true that the best painting would be timeless in this sense. But it wouldn\\'t be impressive to write an essay introducing natural selection now. The best essay now would be one describing a great discovery we didn\\'t yet know about.\\n\\nIf the question of how to write the best possible essay reduces to the question of how to make great discoveries, then I started with the wrong question. Perhaps what this exercise shows is that we shouldn\\'t waste our time writing essays but instead focus on making discoveries in some specific domain. But I\\'m interested in essays and what can be done with them, so I want to see if there\\'s some other question I could have asked.\\n\\nThere is, and on the face of it, it seems almost identical to the one I started with. Instead of asking what would the best essay be? I should have asked how do you write essays well? Though these seem only phrasing apart, their answers diverge. The answer to the first question, as we\\'ve seen, isn\\'t really about essay writing. The second question forces it to be.\\n\\nWriting essays, at its best, is a way of discovering ideas. How do you do that well? How do you discover by writing?\\n\\nAn essay should ordinarily start with what I\\'m going to call a question, though I mean this in a very general sense: it doesn\\'t have to be a question grammatically, just something that acts like one in the sense that it spurs some response.\\n\\nHow do you get this initial question? It probably won\\'t work to choose some important-sounding topic at random and go at it. Professional traders won\\'t even trade unless they have what they call an edge — a convincing story about why in some class of trades they\\'ll win more than they lose. Similarly, you shouldn\\'t attack a topic unless you have a way in — some new insight about it or way of approaching it.\\n\\nYou don\\'t need to have a complete thesis; you just need some kind of gap you can explore. In fact, merely having questions about something other people take for granted can be edge enough.\\n\\nIf you come across a question that\\'s sufficiently puzzling, it could be worth exploring even if it doesn\\'t seem very momentous. Many an important discovery has been made by pulling on a thread that seemed insignificant at first. How can they all be finches? [2]\\n\\nOnce you\\'ve got a question, then what? You start thinking out loud about it. Not literally out loud, but you commit to a specific string of words in response, as you would if you were talking. This initial response is usually mistaken or incomplete. Writing converts your ideas from vague to bad. But that\\'s a step forward, because once you can see the brokenness, you can fix it.\\n\\nPerhaps beginning writers are alarmed at the thought of starting with something mistaken or incomplete, but you shouldn\\'t be, because this is why essay writing works. Forcing yourself to commit to some specific string of words gives you a starting point, and if it\\'s wrong, you\\'ll see that when you reread it. At least half of essay writing is rereading what you\\'ve written and asking is this correct and complete? You have to be very strict when rereading, not just because you want to keep yourself honest, but because a gap between your response and the truth is often a sign of new ideas to be discovered.\\n\\nThe prize for being strict with what you\\'ve written is not just refinement. When you take a roughly correct answer and try to make it exactly right, sometimes you find that you can\\'t, and that the reason is that you were depending on a false assumption. And when you discard it, the answer turns out to be completely different. [3]\\n\\nIdeally the response to a question is two things: the first step in a process that converges on the truth, and a source of additional questions (in my very general sense of the word). So the process continues recursively, as response spurs response. [4]\\n\\nUsually there are several possible responses to a question, which means you\\'re traversing a tree. But essays are linear, not tree-shaped, which means you have to choose one branch to follow at each point. How do you choose? Usually you should follow whichever offers the greatest combination of generality and novelty. I don\\'t consciously rank branches this way; I just follow whichever seems most exciting; but generality and novelty are what make a branch exciting. [5]\\n\\nIf you\\'re willing to do a lot of rewriting, you don\\'t have to guess right. You can follow a branch and see how it turns out, and if it isn\\'t good enough, cut it and backtrack. I do this all the time. In this essay I\\'ve already cut a 17-paragraph subtree, in addition to countless shorter ones. Maybe I\\'ll reattach it at the end, or boil it down to a footnote, or spin it off as its own essay; we\\'ll see. [6]\\n\\nIn general you want to be quick to cut. One of the most dangerous temptations in writing (and in software and painting) is to keep something that isn\\'t right, just because it contains a few good bits or cost you a lot of effort.\\n\\nThe most surprising new question being thrown off at this point is does it really matter what the initial question is? If the space of ideas is highly connected, it shouldn\\'t, because you should be able to get from any question to the most valuable ones in a few hops. And we see evidence that it\\'s highly connected in the way, for example, that people who are obsessed with some topic can turn any conversation toward it. But that only works if you know where you want to go, and you don\\'t in an essay. That\\'s the whole point. You don\\'t want to be the obsessive conversationalist, or all your essays will be about the same thing. [7]\\n\\nThe other reason the initial question matters is that you usually feel somewhat obliged to stick to it. I don\\'t think about this when I decide which branch to follow. I just follow novelty and generality. Sticking to the question is enforced later, when I notice I\\'ve wandered too far and have to backtrack. But I think this is the optimal solution. You don\\'t want the hunt for novelty and generality to be constrained in the moment. Go with it and see what you get. [8]\\n\\nSince the initial question does constrain you, in the best case it sets an upper bound on the quality of essay you\\'ll write. If you do as well as you possibly can on the chain of thoughts that follow from the initial question, the initial question itself is the only place where there\\'s room for variation.\\n\\nIt would be a mistake to let this make you too conservative though, because you can\\'t predict where a question will lead. Not if you\\'re doing things right, because doing things right means making discoveries, and by definition you can\\'t predict those. So the way to respond to this situation is not to be cautious about which initial question you choose, but to write a lot of essays. Essays are for taking risks.\\n\\nAlmost any question can get you a good essay. Indeed, it took some effort to think of a sufficiently unpromising topic in the third paragraph, because any essayist\\'s first impulse on hearing that the best essay couldn\\'t be about x would be to try to write it. But if most questions yield good essays, only some yield great ones.\\n\\nCan we predict which questions will yield great essays? Considering how long I\\'ve been writing essays, it\\'s alarming how novel that question feels.\\n\\nOne thing I like in an initial question is outrageousness. I love questions that seem naughty in some way — for example, by seeming counterintuitive or overambitious or heterodox. Ideally all three. This essay is an example. Writing about the best essay implies there is such a thing, which pseudo-intellectuals will dismiss as reductive, though it follows necessarily from the possibility of one essay being better than another. And thinking about how to do something so ambitious is close enough to doing it that it holds your attention.\\n\\nI like to start an essay with a gleam in my eye. This could be just a taste of mine, but there\\'s one aspect of it that probably isn\\'t: to write a really good essay on some topic, you have to be interested in it. A good writer can write well about anything, but to stretch for the novel insights that are the raison d\\'etre of the essay, you have to care.\\n\\nIf caring about it is one of the criteria for a good initial question, then the optimal question varies from person to person. It also means you\\'re more likely to write great essays if you care about a lot of different things. The more curious you are, the greater the probable overlap between the set of things you\\'re curious about and the set of topics that yield great essays.\\n\\nWhat other qualities would a great initial question have? It\\'s probably good if it has implications in a lot of different areas. And I find it\\'s a good sign if it\\'s one that people think has already been thoroughly explored. But the truth is that I\\'ve barely thought about how to choose initial questions, because I rarely do it. I rarely choose what to write about; I just start thinking about something, and sometimes it turns into an essay.\\n\\nAm I going to stop writing essays about whatever I happen to be thinking about and instead start working my way through some systematically generated list of topics? That doesn\\'t sound like much fun. And yet I want to write good essays, and if the initial question matters, I should care about it.\\n\\nPerhaps the answer is to go one step earlier: to write about whatever pops into your head, but try to ensure that what pops into your head is good. Indeed, now that I think about it, this has to be the answer, because a mere list of topics wouldn\\'t be any use if you didn\\'t have edge with any of them. To start writing an essay, you need a topic plus some initial insight about it, and you can\\'t generate those systematically. If only. [9]\\n\\nYou can probably cause yourself to have more of them, though. The quality of the ideas that come out of your head depends on what goes in, and you can improve that in two dimensions, breadth and depth.\\n\\nYou can\\'t learn everything, so getting breadth implies learning about topics that are very different from one another. When I tell people about my book-buying trips to Hay and they ask what I buy books about, I usually feel a bit sheepish answering, because the topics seem like a laundry list of unrelated subjects. But perhaps that\\'s actually optimal in this business.\\n\\nYou can also get ideas by talking to people, by doing and building things, and by going places and seeing things. I don\\'t think it\\'s important to talk to new people so much as the sort of people who make you have new ideas. I get more new ideas after talking for an afternoon with Robert Morris than from talking to 20 new smart people. I know because that\\'s what a block of office hours at Y Combinator consists of.\\n\\nWhile breadth comes from reading and talking and seeing, depth comes from doing. The way to really learn about some domain is to have to solve problems in it. Though this could take the form of writing, I suspect that to be a good essayist you also have to do, or have done, some other kind of work. That may not be true for most other fields, but essay writing is different. You could spend half your time working on something else and be net ahead, so long as it was hard.\\n\\nI\\'m not proposing that as a recipe so much as an encouragement to those already doing it. If you\\'ve spent all your life so far working on other things, you\\'re already halfway there. Though of course to be good at writing you have to like it, and if you like writing you\\'d probably have spent at least some time doing it.\\n\\nEverything I\\'ve said about initial questions applies also to the questions you encounter in writing the essay. They\\'re the same thing; every subtree of an essay is usually a shorter essay, just as every subtree of a Calder mobile is a smaller mobile. So any technique that gets you good initial questions also gets you good whole essays.\\n\\nAt some point the cycle of question and response reaches what feels like a natural end. Which is a little suspicious; shouldn\\'t every answer suggest more questions? I think what happens is that you start to feel sated. Once you\\'ve covered enough interesting ground, you start to lose your appetite for new questions. Which is just as well, because the reader is probably feeling sated too. And it\\'s not lazy to stop asking questions, because you could instead be asking the initial question of a new essay.\\n\\nThat\\'s the ultimate source of drag on the connectedness of ideas: the discoveries you make along the way. If you discover enough starting from question A, you\\'ll never make it to question B. Though if you keep writing essays you\\'ll gradually fix this problem by burning off such discoveries. So bizarrely enough, writing lots of essays makes it as if the space of ideas were more highly connected.\\n\\nWhen a subtree comes to an end, you can do one of two things. You can either stop, or pull the Cubist trick of laying separate subtrees end to end by returning to a question you skipped earlier. Usually it requires some sleight of hand to make the essay flow continuously at this point, but not this time. This time I actually need an example of the phenomenon. For example, we discovered earlier that the best possible essay wouldn\\'t usually be timeless in the way the best painting would. This seems surprising enough to be worth investigating further.\\n\\nThere are two senses in which an essay can be timeless: to be about a matter of permanent importance, and always to have the same effect on readers. With art these two senses blend together. Art that looked beautiful to the ancient Greeks still looks beautiful to us. But with essays the two senses diverge, because essays teach, and you can\\'t teach people something they already know. Natural selection is certainly a matter of permanent importance, but an essay explaining it couldn\\'t have the same effect on us that it would have had on Darwin\\'s contemporaries, precisely because his ideas were so successful that everyone already knows about them. [10]\\n\\nI imagined when I started writing this that the best possible essay would be timeless in the stricter, evergreen sense: that it would contain some deep, timeless wisdom that would appeal equally to Aristotle and Feynman. That doesn\\'t seem to be true. But if the best possible essay wouldn\\'t usually be timeless in this stricter sense, what would it take to write essays that were?\\n\\nThe answer to that turns out to be very strange: to be the evergreen kind of timeless, an essay has to be ineffective, in the sense that its discoveries aren\\'t assimilated into our shared culture. Otherwise there will be nothing new in it for the second generation of readers. If you want to surprise readers not just now but in the future as well, you have to write essays that won\\'t stick — essays that, no matter how good they are, won\\'t become part of what people in the future learn before they read them. [11]\\n\\nI can imagine several ways to do that. One would be to write about things people never learn. For example, it\\'s a long-established pattern for ambitious people to chase after various types of prizes, and only later, perhaps too late, to realize that some of them weren\\'t worth as much as they thought. If you write about that, you can be confident of a conveyor belt of future readers to be surprised by it.\\n\\nDitto if you write about the tendency of the inexperienced to overdo things — of young engineers to produce overcomplicated solutions, for example. There are some kinds of mistakes people never learn to avoid except by making them. Any of those should be a timeless topic.\\n\\nSometimes when we\\'re slow to grasp things it\\'s not just because we\\'re obtuse or in denial but because we\\'ve been deliberately lied to. There are a lot of things adults lie to kids about, and when you reach adulthood, they don\\'t take you aside and hand you a list of them. They don\\'t remember which lies they told you, and most were implicit anyway. So contradicting such lies will be a source of surprises for as long as adults keep telling them.\\n\\nSometimes it\\'s systems that lie to you. For example, the educational systems in most countries train you to win by hacking the test. But that\\'s not how you win at the most important real-world tests, and after decades of training, this is hard for new arrivals in the real world to grasp. Helping them overcome such institutional lies will work as long as the institutions remain broken. [12]\\n\\nAnother recipe for timelessness is to write about things readers already know, but in much more detail than can be transmitted culturally. \"Everyone knows,\" for example, that it can be rewarding to have kids. But till you have them you don\\'t know precisely what forms that takes, and even then much of what you know you may never have put into words.\\n\\nI\\'ve written about all these kinds of topics. But I didn\\'t do it in a deliberate attempt to write essays that were timeless in the stricter sense. And indeed, the fact that this depends on one\\'s ideas not sticking suggests that it\\'s not worth making a deliberate attempt to. You should write about topics of timeless importance, yes, but if you do such a good job that your conclusions stick and future generations find your essay obvious instead of novel, so much the better. You\\'ve crossed into Darwin territory.\\n\\nWriting about topics of timeless importance is an instance of something even more general, though: breadth of applicability. And there are more kinds of breadth than chronological — applying to lots of different fields, for example. So breadth is the ultimate aim.\\n\\nI already aim for it. Breadth and novelty are the two things I\\'m always chasing. But I\\'m glad I understand where timelessness fits.\\n\\nI understand better where a lot of things fit now. This essay has been a kind of tour of essay writing. I started out hoping to get advice about topics; if you assume good writing, the only thing left to differentiate the best essay is its topic. And I did get advice about topics: discover natural selection. Yeah, that would be nice. But when you step back and ask what\\'s the best you can do short of making some great discovery like that, the answer turns out to be about procedure. Ultimately the quality of an essay is a function of the ideas discovered in it, and the way you get them is by casting a wide net for questions and then being very exacting with the answers.\\n\\nThe most striking feature of this map of essay writing are the alternating stripes of inspiration and effort required. The questions depend on inspiration, but the answers can be got by sheer persistence. You don\\'t have to get an answer right the first time, but there\\'s no excuse for not getting it right eventually, because you can keep rewriting till you do. And this is not just a theoretical possibility. It\\'s a pretty accurate description of the way I work. I\\'m rewriting as we speak.\\n\\nBut although I wish I could say that writing great essays depends mostly on effort, in the limit case it\\'s inspiration that makes the difference. In the limit case, the questions are the harder thing to get. That pool has no bottom.\\n\\nHow to get more questions? That is the most important question of all.\\n'"
      ]
     },
     "execution_count": 6,
     "metadata": {},
     "output_type": "execute_result"
    }
   ],
   "source": [
    "text"
   ]
  },
  {
   "cell_type": "code",
   "execution_count": 7,
   "metadata": {},
   "outputs": [
    {
     "data": {
      "text/plain": [
       "Ollama(callback_manager=<llama_index.core.callbacks.base.CallbackManager object at 0x71beb81f5f50>, system_prompt=None, messages_to_prompt=<function messages_to_prompt at 0x71be9c1dbec0>, completion_to_prompt=<function default_completion_to_prompt at 0x71be9c092700>, output_parser=None, pydantic_program_mode=<PydanticProgramMode.DEFAULT: 'default'>, query_wrapper_prompt=None, base_url='http://localhost:11434', model='tinyllama:latest', temperature=0.0, context_window=3900, request_timeout=60.0, prompt_key='prompt', json_mode=False, additional_kwargs={}, is_function_calling_model=True)"
      ]
     },
     "execution_count": 7,
     "metadata": {},
     "output_type": "execute_result"
    }
   ],
   "source": [
    "from llama_index.llms.ollama import Ollama\n",
    "\n",
    "llm = Ollama(model=\"tinyllama:latest\", request_timeout=60.0, temperature=0)\n",
    "\n",
    "llm"
   ]
  },
  {
   "cell_type": "code",
   "execution_count": 8,
   "metadata": {},
   "outputs": [
    {
     "data": {
      "text/plain": [
       "CompletionResponse(text=\"The sky blue color is caused by the presence of various colors in the atmosphere, including blue light emitted from the sun and other sources such as volcanic ash, dust, and pollution. The blue hue is created when these different wavelengths of light combine to create a unique blend of colors that we perceive as blue. The exact composition of the sky's color depends on various factors such as atmospheric conditions, cloud cover, and sunlight intensity.\", additional_kwargs={'tool_calls': []}, raw={'model': 'tinyllama:latest', 'created_at': '2024-08-18T22:05:48.366316201Z', 'message': {'role': 'assistant', 'content': \"The sky blue color is caused by the presence of various colors in the atmosphere, including blue light emitted from the sun and other sources such as volcanic ash, dust, and pollution. The blue hue is created when these different wavelengths of light combine to create a unique blend of colors that we perceive as blue. The exact composition of the sky's color depends on various factors such as atmospheric conditions, cloud cover, and sunlight intensity.\"}, 'done_reason': 'stop', 'done': True, 'total_duration': 4100360499, 'load_duration': 2678141019, 'prompt_eval_count': 40, 'prompt_eval_duration': 83907000, 'eval_count': 100, 'eval_duration': 1204328000}, logprobs=None, delta=None)"
      ]
     },
     "execution_count": 8,
     "metadata": {},
     "output_type": "execute_result"
    }
   ],
   "source": [
    "query = llm.complete(\"Why is the sky blue?\")\n",
    "query"
   ]
  },
  {
   "cell_type": "code",
   "execution_count": 9,
   "metadata": {},
   "outputs": [],
   "source": [
    "from llama_index.core import PromptTemplate\n",
    "\n",
    "qa_template = PromptTemplate(\n",
    "    \"We have provided context information below. \\n\"\n",
    "    \"---------------------\\n\"\n",
    "    \"{context_str}\"\n",
    "    \"\\n---------------------\\n\"\n",
    "    \"Given this information, please answer the question: {query_str}\\n\"\n",
    ")"
   ]
  },
  {
   "cell_type": "code",
   "execution_count": 10,
   "metadata": {},
   "outputs": [
    {
     "data": {
      "text/plain": [
       "PromptTemplate(metadata={'prompt_type': <PromptType.CUSTOM: 'custom'>}, template_vars=['context_str', 'query_str'], kwargs={}, output_parser=None, template_var_mappings=None, function_mappings=None, template='We have provided context information below. \\n---------------------\\n{context_str}\\n---------------------\\nGiven this information, please answer the question: {query_str}\\n')"
      ]
     },
     "execution_count": 10,
     "metadata": {},
     "output_type": "execute_result"
    }
   ],
   "source": [
    "qa_template"
   ]
  },
  {
   "cell_type": "code",
   "execution_count": 11,
   "metadata": {},
   "outputs": [
    {
     "name": "stdout",
     "output_type": "stream",
     "text": [
      "The essay is about timelessness and how it can be achieved by writing about topics that readers already know but in much more detail than can be transmitted culturally. The author has written extensively on topics such as the importance of ambition, the tendency for young engineers to produce overcomplicated solutions, and the need for people to learn new things in order to surprise future generations. The author believes that writing about timelessness is an instance of breadth of applicability and that it can be achieved by applying to various fields and being very exacting with answers. Ultimately, the author's map of essay writing highlights the alternating stripes of inspiration and effort required for great essays, but also emphasizes the importance of persistence in achieving them.\n"
     ]
    }
   ],
   "source": [
    "question = \"What is this essay about?\"\n",
    "\n",
    "prompt = qa_template.format(context_str=text, query_str=question)\n",
    "\n",
    "response = llm.complete(prompt)\n",
    "\n",
    "print(response.text)"
   ]
  },
  {
   "cell_type": "code",
   "execution_count": 12,
   "metadata": {},
   "outputs": [
    {
     "name": "stdout",
     "output_type": "stream",
     "text": [
      "The given text does not provide any information about who the president of the United States is.\n"
     ]
    }
   ],
   "source": [
    "question = \"Who is the president of the United States?\"\n",
    "\n",
    "prompt = qa_template.format(context_str=text, query_str=question)\n",
    "\n",
    "response = llm.complete(prompt)\n",
    "\n",
    "print(response.text)"
   ]
  },
  {
   "cell_type": "markdown",
   "metadata": {},
   "source": [
    "using SimpleWebPageReader"
   ]
  },
  {
   "cell_type": "code",
   "execution_count": 16,
   "metadata": {},
   "outputs": [],
   "source": [
    "from llama_index.readers.web import SimpleWebPageReader\n",
    "\n",
    "reader = SimpleWebPageReader(html_to_text=True).load_data([\"https://www.ml.school/\"])"
   ]
  },
  {
   "cell_type": "code",
   "execution_count": 18,
   "metadata": {},
   "outputs": [
    {
     "data": {
      "text/plain": [
       "Document(id_='https://www.ml.school/', embedding=None, metadata={}, excluded_embed_metadata_keys=[], excluded_llm_metadata_keys=[], relationships={}, text='> \"This is the best machine learning course I\\'ve done. Worth every cent.\"\\n\\n**Jose Reyes** , AI/ML at Cevo Australia\\n\\n# Building Machine Learning Systems That Don\\'t Suck\\n\\nA **live, interactive program** that\\'ll help you build **production-ready**\\nmachine learning systems from the ground up.\\n\\nNext cohort: November 4 \\\\- 21, 2024\\n\\nCheck the schedule for more details about upcoming cohorts.\\n\\nI want to join!Sign in\\n\\n## Learn how to **design** , **build** , **deploy** , and **scale** machine\\nlearning systems to solve real-world problems.\\n\\nI\\'ll lose my mind if I see another book or course teaching people the same\\nbasic ideas for the hundredth time. Most people are stuck in beginner mode,\\nand finding help to solve real-world problems is hard.\\n\\nI want to change that.\\n\\nI started writing software 30 years ago. I\\'ve written pipelines and trained\\nmodels for some of the largest companies in the world. I want to show you how\\nto do the same.\\n\\nThis is the class I wish I had taken when I started.\\n\\nThis program will help you unlearn what you think machine learning is. It\\'s a\\npractical, hands-on class where you\\'ll learn from years of experience and\\nreal-world examples.\\n\\nWhen you join, you get **lifetime access** to the following:\\n\\n  * 18 hours of live, interactive sessions. We\\'ll use this time to discuss the first principles behind building machine learning systems.\\n  * 10 hours of step-by-step coding instructions. These practical sessions will show you how to build an end-to-end system from scratch.\\n  * A final project where you\\'ll build a complete solution and receive direct feedback on your work.\\n  * 100 coding assignments and practice questions.\\n  * The entire source code of a working production system. It\\'s yours. You can change and use it as you see fit.\\n  * A private community where you\\'ll collaborate with thousands of people from different backgrounds.\\n  * Direct access to your instructor.\\n  * Lifetime access to every past and future cohort.\\n  * Program certificate upon completion.\\n\\nAnd the best part is that you only pay once to join. There are no monthly\\nfees. No annual fees. No hidden costs. You pay once to join and benefit\\nforever until the end of time.\\n\\nThe program won\\'t be easy. It\\'ll take time and effort. But if you want to use\\nmachine learning to solve real-world problems, **this is the class you don \\'t\\nwant to miss.**\\n\\n# Who Is This Program For?\\n\\n## This is a practical, hands-on program for technical professionals who are\\nready to put in the work.\\n\\nThis program is for **software engineers** , **data scientists** , **data\\nanalysts** , **machine learning engineers** , **technical managers** , and\\nanyone anyone who wants to use machine learning to solve real-world problems.\\n\\nHere are the criteria to succeed in the program:\\n\\n  * You have experience writing code. We\\'ll use Python throughout the class, but you won\\'t have any problems if you know any other language.\\n  * You are familiar with basic machine learning terminology. This is not an introductory class. We\\'ll move quickly over the basics to focus on the fundamental ideas that make systems work.\\n  * You are ready to put in the work to succeed.\\n\\n> \"I have learned a ton from Santiago in his class and it was actually what\\n> helped inspire me and get into the MLOps work that I\\'m doing now. Truly one\\n> of the most helpful online courses for doing real, full-scale machine\\n> learning.\"\\n\\n![](/_next/image?url=%2F_next%2Fstatic%2Fmedia%2Fbrianhough.965e7d9d.jpeg&w=96&q=75)\\n\\nBrian H. Hough\\n\\nSoftware Engineer\\n\\n# What Will You Learn?\\n\\n## You\\'ll come out with practical skills and insights into what it takes to\\nbuild systems that work in the real world.\\n\\nHere is a summary of what makes this program unique:\\n\\n  * You\\'ll design and write the code to build an end-to-end machine learning system starting from scratch.\\n  * You\\'ll learn best practices to tackle the most significant challenges machine learning engineers face to build, evaluate, run, monitor, and maintain machine learning systems in real-world scenarios.\\n  * You\\'ll learn how to use techniques like active learning, distributed training, adversarial validation, human-in-the-loop deployments, model compression, test-time augmentation, testing in production, among many others.\\n  * You\\'ll learn how to create training, deploying, monitoring, and inference pipelines using Amazon SageMaker and open-source tools.\\n\\nForget about theoretical concepts. This program will show you some of the\\nthings I\\'ve learned from real-life examples I\\'ve built during more than 30\\nyears in the industry.\\n\\nCheck the program syllabus →\\n\\n  1. ![](/_next/image?url=%2F_next%2Fstatic%2Fmedia%2Fslides-thumbnail.270f2d17.jpg&w=3840&q=75)\\n\\n### Real-life examples and case studies\\n\\nLearn from practical experience building machine learning systems that work in\\nthe real world.\\n\\n  2. ![](/_next/image?url=%2F_next%2Fstatic%2Fmedia%2Fvideo-thumbnail.228cee07.jpg&w=3840&q=75)\\n\\n### Live, interactive sessions\\n\\nAsk questions and interact with the instructor and other students in real\\ntime.\\n\\n  3. ![](/_next/image?url=%2F_next%2Fstatic%2Fmedia%2Fcode-thumbnail.96685995.jpg&w=3840&q=75)\\n\\n### Code walkthroughs\\n\\nStep by step coding instructions to help you build a production system from\\nscratch.\\n\\n# Upcoming Schedule\\n\\n## Every iteration of the program gives you 18 hours of hands-on, live\\ntraining spread over 3 weeks.\\n\\nHere are the upcoming cohorts:\\n\\n  * Cohort 16: **November 4 - November 21, 2024. **1:00 PM EST\\n\\nLive sessions will take place every Monday and Thursday at the same time. On\\nWednesdays, we\\'ll host office hours when you can bring your questions projects\\nor anything else you want to discuss.\\n\\n  * **Monday** : Live session. 2 hours.\\n  * **Tuesday** : Individual work.\\n  * **Wednesday** : Optional office hours.\\n  * **Thursday** : Live session. 2 hours.\\n  * **Friday** : Individual work.\\n\\nDo not wait for a specific cohort to join the program. You have lifetime\\naccess to every past and future cohort, and the sooner you join, the more time\\nyou have to prepare.\\n\\nEvery session is recorded. You can attend live or watch the recorded version\\nlater.\\n\\n> \"This is one of the best classes I\\'ve ever purchased over the internet.\\n> Santiago is a terrific teacher. The ability he has to share knowledge is\\n> fantastic. I recommend this course. Worth 10x what he\\'s charging.\"\\n\\n![](/_next/image?url=%2F_next%2Fstatic%2Fmedia%2Fsaldistefano.d0b42e55.jpeg&w=96&q=75)\\n\\nSal DiStefano\\n\\n# Ready To Join The Program?\\n\\n## You\\'ll get lifetime access. No monthly fees. No annual fees. No hidden\\ncosts.\\n\\n$500\\n\\n### Pay once. Access forever.\\n\\nPay once to join the program and get lifetime access. You can participate in\\nas many iterations as you\\'d like. No restrictions.\\n\\n  * Enjoy 18 hours of live, interactive sessions\\n  * Watch 10 hours of step-by-step coding instructions\\n  * Practice with 100 coding assignments\\n  * Access the complete source code of a production system\\n  * Learn how to start freelancing on Upwork\\n  * Get feedback and support from the community\\n  * Get direct feedback from your instructor\\n\\n[Join now](https://buy.stripe.com/9AQcMP6Yjedy0WA4gg)\\n\\n# Program Syllabus\\n\\n## This program will teach you the practical skills and insights that will\\nhelp you build machine learning systems.\\n\\nHere are the contents of the six live sessions of the program:\\n\\n  1. ### Session 1 \\\\- How To Start (Almost) Any Project\\n\\n     * What makes production machine learning different from what you\\'ve learned.\\n     * The strategy to solve the right problem using the right solution.\\n     * Critical questions to ask before starting any project.\\n     * Problem framing, inversion, and the haystack principle for building successful applications.\\n     * The first rule of machine learning engineering and how to start building.\\n     * Data collection strategies. A technique to determine how much data you need.\\n     * The problem of selection bias and how to deal with it.\\n     * Labeling data. Human annotations, natural labels and weak supervision.\\n     * Active learning using the uncertainty and diversity sampling strategies.\\n  2. ### Session 2 \\\\- How to Build a Model\\n\\n     * The role of data cleaning and feature engineering to build better models.\\n     * Turning data into numbers using vectorization techniques.\\n     * Producing homogeneous features using normalization and standardization.\\n     * Handling and interpreting missing values using imputation techniques.\\n     * The approach to choosing the best model to solve any problem.\\n     * Random baselines and the zero-rule algorithm.\\n     * How to use overfitting to build models that don\\'t suck.\\n     * Hyperparameter tuning and experiment tracking.\\n     * Measuring the quality of your holdout set.\\n     * An introduction to distributed training using data parallelism and model parallelism.\\n\\nSee the remaining sessions\\n\\n> \"This is an awesome course! This is my second round and I continue learning.\\n> I recommend it with complete confidence.\"\\n\\n![](/_next/image?url=%2F_next%2Fstatic%2Fmedia%2Fjuanolano.ff7e749a.jpeg&w=96&q=75)\\n\\nJuan Olano\\n\\nMachine Learning Engineer\\n\\n# Frequently Asked Questions\\n\\n## If you can\\'t find the answer to your question, please reach out on social\\nmedia and I\\'ll be happy to help.\\n\\n### How long will it take to complete the program?\\n\\nIf you are attending the live sessions, you should set aside a minimum of 4\\nhours every week during the three weeks of the program. This commitment will\\nbe enough for engineer leaders or anyone not interested in the coding portion\\nof the program.\\n\\nThose interested in implementing the concepts discussed in class should set\\naside 2 to 4 hours weekly to complete the code walkthroughs and work on the\\nassignments.\\n\\n### Are live sessions recorded?\\n\\nYes, we record every live session. You can decide when to attend classes live\\nor catch up asynchronously later using the recording.\\n\\n### I\\'m a complete beginner. Is this program helpful for me?\\n\\nThis program is not an introduction to machine learning.\\n\\nWhile we\\'ll discuss many fundamental ideas behind machine learning, beginners\\nwill find the sessions go much faster than what\\'s optimal for them.\\n\\n### What does \"lifetime access\" mean?\\n\\nYou only pay once to join the program and get immediate access to every past,\\npresent, and future cohort.\\n\\nEvery new iteration of the program is better than the ones before. Many\\nstudents take classes once and then join a later cohort to benefit from the\\nupdates.\\n\\nThe lifetime access removes any pressure from having to complete the program\\nwhen life gets in the way.\\n\\n![](/_next/image?url=%2F_next%2Fstatic%2Fmedia%2Fheadshot.8b69bb12.jpg&w=3840&q=75)\\n\\n# Hey! I\\'m Santiago.\\n\\n## I\\'m the instructor of the program.\\n\\nI\\'m a machine learning engineer with over two decades of experience building\\nand scaling enterprise software and machine learning systems.\\n\\nI love neural networks. I love to make them work at scale.\\n\\nFrom 2009 to 2023, I built products for Disney, Boston Dynamics, IBM, Dell,\\nG4S, Anheuser-Busch, and NextEra Energy, among other clients. I learned about\\ntrade-offs and how to create products that work.\\n\\nI started this program in March 2023. Since then, thousands of students have\\ngraduated, and I can\\'t wait to meet you in class.\\n\\n[](https://twitter.com/svpino)[](https://linkedin.com/in/svpino)\\n\\nCopyright © 2024 Tideily LLC\\n\\nAll rights reserved.\\n\\n', mimetype='text/plain', start_char_idx=None, end_char_idx=None, text_template='{metadata_str}\\n\\n{content}', metadata_template='{key}: {value}', metadata_seperator='\\n')"
      ]
     },
     "execution_count": 18,
     "metadata": {},
     "output_type": "execute_result"
    }
   ],
   "source": [
    "reader[0]"
   ]
  },
  {
   "cell_type": "code",
   "execution_count": 22,
   "metadata": {},
   "outputs": [
    {
     "data": {
      "text/markdown": [
       "> \"This is the best machine learning course I've done. Worth every cent.\"\n",
       "\n",
       "**Jose Reyes** , AI/ML at Cevo Australia\n",
       "\n",
       "# Building Machine Learning Systems That Don't Suck\n",
       "\n",
       "A **live, interactive program** that'll help you build **production-ready**\n",
       "machine learning systems from the ground up.\n",
       "\n",
       "Next cohort: November 4 \\- 21, 2024\n",
       "\n",
       "Check the schedule for more details about upcoming cohorts.\n",
       "\n",
       "I want to join!Sign in\n",
       "\n",
       "## Learn how to **design** , **build** , **deploy** , and **scale** machine\n",
       "learning systems to solve real-world problems.\n",
       "\n",
       "I'll lose my mind if I see another book or course teaching people the same\n",
       "basic ideas for the hundredth time. Most people are stuck in beginner mode,\n",
       "and finding help to solve real-world problems is hard.\n",
       "\n",
       "I want to change that.\n",
       "\n",
       "I started writing software 30 years ago. I've written pipelines and trained\n",
       "models for some of the largest companies in the world. I want to show you how\n",
       "to do the same.\n",
       "\n",
       "This is the class I wish I had taken when I started.\n",
       "\n",
       "This program will help you unlearn what you think machine learning is. It's a\n",
       "practical, hands-on class where you'll learn from years of experience and\n",
       "real-world examples.\n",
       "\n",
       "When you join, you get **lifetime access** to the following:\n",
       "\n",
       "  * 18 hours of live, interactive sessions. We'll use this time to discuss the first principles behind building machine learning systems.\n",
       "  * 10 hours of step-by-step coding instructions. These practical sessions will show you how to build an end-to-end system from scratch.\n",
       "  * A final project where you'll build a complete solution and receive direct feedback on your work.\n",
       "  * 100 coding assignments and practice questions.\n",
       "  * The entire source code of a working production system. It's yours. You can change and use it as you see fit.\n",
       "  * A private community where you'll collaborate with thousands of people from different backgrounds.\n",
       "  * Direct access to your instructor.\n",
       "  * Lifetime access to every past and future cohort.\n",
       "  * Program certificate upon completion.\n",
       "\n",
       "And the best part is that you only pay once to join. There are no monthly\n",
       "fees. No annual fees. No hidden costs. You pay once to join and benefit\n",
       "forever until the end of time.\n",
       "\n",
       "The program won't be easy. It'll take time and effort. But if you want to use\n",
       "machine learning to solve real-world problems, **this is the class you don 't\n",
       "want to miss.**\n",
       "\n",
       "# Who Is This Program For?\n",
       "\n",
       "## This is a practical, hands-on program for technical professionals who are\n",
       "ready to put in the work.\n",
       "\n",
       "This program is for **software engineers** , **data scientists** , **data\n",
       "analysts** , **machine learning engineers** , **technical managers** , and\n",
       "anyone anyone who wants to use machine learning to solve real-world problems.\n",
       "\n",
       "Here are the criteria to succeed in the program:\n",
       "\n",
       "  * You have experience writing code. We'll use Python throughout the class, but you won't have any problems if you know any other language.\n",
       "  * You are familiar with basic machine learning terminology. This is not an introductory class. We'll move quickly over the basics to focus on the fundamental ideas that make systems work.\n",
       "  * You are ready to put in the work to succeed.\n",
       "\n",
       "> \"I have learned a ton from Santiago in his class and it was actually what\n",
       "> helped inspire me and get into the MLOps work that I'm doing now. Truly one\n",
       "> of the most helpful online courses for doing real, full-scale machine\n",
       "> learning.\"\n",
       "\n",
       "![](/_next/image?url=%2F_next%2Fstatic%2Fmedia%2Fbrianhough.965e7d9d.jpeg&w=96&q=75)\n",
       "\n",
       "Brian H. Hough\n",
       "\n",
       "Software Engineer\n",
       "\n",
       "# What Will You Learn?\n",
       "\n",
       "## You'll come out with practical skills and insights into what it takes to\n",
       "build systems that work in the real world.\n",
       "\n",
       "Here is a summary of what makes this program unique:\n",
       "\n",
       "  * You'll design and write the code to build an end-to-end machine learning system starting from scratch.\n",
       "  * You'll learn best practices to tackle the most significant challenges machine learning engineers face to build, evaluate, run, monitor, and maintain machine learning systems in real-world scenarios.\n",
       "  * You'll learn how to use techniques like active learning, distributed training, adversarial validation, human-in-the-loop deployments, model compression, test-time augmentation, testing in production, among many others.\n",
       "  * You'll learn how to create training, deploying, monitoring, and inference pipelines using Amazon SageMaker and open-source tools.\n",
       "\n",
       "Forget about theoretical concepts. This program will show you some of the\n",
       "things I've learned from real-life examples I've built during more than 30\n",
       "years in the industry.\n",
       "\n",
       "Check the program syllabus →\n",
       "\n",
       "  1. ![](/_next/image?url=%2F_next%2Fstatic%2Fmedia%2Fslides-thumbnail.270f2d17.jpg&w=3840&q=75)\n",
       "\n",
       "### Real-life examples and case studies\n",
       "\n",
       "Learn from practical experience building machine learning systems that work in\n",
       "the real world.\n",
       "\n",
       "  2. ![](/_next/image?url=%2F_next%2Fstatic%2Fmedia%2Fvideo-thumbnail.228cee07.jpg&w=3840&q=75)\n",
       "\n",
       "### Live, interactive sessions\n",
       "\n",
       "Ask questions and interact with the instructor and other students in real\n",
       "time.\n",
       "\n",
       "  3. ![](/_next/image?url=%2F_next%2Fstatic%2Fmedia%2Fcode-thumbnail.96685995.jpg&w=3840&q=75)\n",
       "\n",
       "### Code walkthroughs\n",
       "\n",
       "Step by step coding instructions to help you build a production system from\n",
       "scratch.\n",
       "\n",
       "# Upcoming Schedule\n",
       "\n",
       "## Every iteration of the program gives you 18 hours of hands-on, live\n",
       "training spread over 3 weeks.\n",
       "\n",
       "Here are the upcoming cohorts:\n",
       "\n",
       "  * Cohort 16: **November 4 - November 21, 2024. **1:00 PM EST\n",
       "\n",
       "Live sessions will take place every Monday and Thursday at the same time. On\n",
       "Wednesdays, we'll host office hours when you can bring your questions projects\n",
       "or anything else you want to discuss.\n",
       "\n",
       "  * **Monday** : Live session. 2 hours.\n",
       "  * **Tuesday** : Individual work.\n",
       "  * **Wednesday** : Optional office hours.\n",
       "  * **Thursday** : Live session. 2 hours.\n",
       "  * **Friday** : Individual work.\n",
       "\n",
       "Do not wait for a specific cohort to join the program. You have lifetime\n",
       "access to every past and future cohort, and the sooner you join, the more time\n",
       "you have to prepare.\n",
       "\n",
       "Every session is recorded. You can attend live or watch the recorded version\n",
       "later.\n",
       "\n",
       "> \"This is one of the best classes I've ever purchased over the internet.\n",
       "> Santiago is a terrific teacher. The ability he has to share knowledge is\n",
       "> fantastic. I recommend this course. Worth 10x what he's charging.\"\n",
       "\n",
       "![](/_next/image?url=%2F_next%2Fstatic%2Fmedia%2Fsaldistefano.d0b42e55.jpeg&w=96&q=75)\n",
       "\n",
       "Sal DiStefano\n",
       "\n",
       "# Ready To Join The Program?\n",
       "\n",
       "## You'll get lifetime access. No monthly fees. No annual fees. No hidden\n",
       "costs.\n",
       "\n",
       "$500\n",
       "\n",
       "### Pay once. Access forever.\n",
       "\n",
       "Pay once to join the program and get lifetime access. You can participate in\n",
       "as many iterations as you'd like. No restrictions.\n",
       "\n",
       "  * Enjoy 18 hours of live, interactive sessions\n",
       "  * Watch 10 hours of step-by-step coding instructions\n",
       "  * Practice with 100 coding assignments\n",
       "  * Access the complete source code of a production system\n",
       "  * Learn how to start freelancing on Upwork\n",
       "  * Get feedback and support from the community\n",
       "  * Get direct feedback from your instructor\n",
       "\n",
       "[Join now](https://buy.stripe.com/9AQcMP6Yjedy0WA4gg)\n",
       "\n",
       "# Program Syllabus\n",
       "\n",
       "## This program will teach you the practical skills and insights that will\n",
       "help you build machine learning systems.\n",
       "\n",
       "Here are the contents of the six live sessions of the program:\n",
       "\n",
       "  1. ### Session 1 \\- How To Start (Almost) Any Project\n",
       "\n",
       "     * What makes production machine learning different from what you've learned.\n",
       "     * The strategy to solve the right problem using the right solution.\n",
       "     * Critical questions to ask before starting any project.\n",
       "     * Problem framing, inversion, and the haystack principle for building successful applications.\n",
       "     * The first rule of machine learning engineering and how to start building.\n",
       "     * Data collection strategies. A technique to determine how much data you need.\n",
       "     * The problem of selection bias and how to deal with it.\n",
       "     * Labeling data. Human annotations, natural labels and weak supervision.\n",
       "     * Active learning using the uncertainty and diversity sampling strategies.\n",
       "  2. ### Session 2 \\- How to Build a Model\n",
       "\n",
       "     * The role of data cleaning and feature engineering to build better models.\n",
       "     * Turning data into numbers using vectorization techniques.\n",
       "     * Producing homogeneous features using normalization and standardization.\n",
       "     * Handling and interpreting missing values using imputation techniques.\n",
       "     * The approach to choosing the best model to solve any problem.\n",
       "     * Random baselines and the zero-rule algorithm.\n",
       "     * How to use overfitting to build models that don't suck.\n",
       "     * Hyperparameter tuning and experiment tracking.\n",
       "     * Measuring the quality of your holdout set.\n",
       "     * An introduction to distributed training using data parallelism and model parallelism.\n",
       "\n",
       "See the remaining sessions\n",
       "\n",
       "> \"This is an awesome course! This is my second round and I continue learning.\n",
       "> I recommend it with complete confidence.\"\n",
       "\n",
       "![](/_next/image?url=%2F_next%2Fstatic%2Fmedia%2Fjuanolano.ff7e749a.jpeg&w=96&q=75)\n",
       "\n",
       "Juan Olano\n",
       "\n",
       "Machine Learning Engineer\n",
       "\n",
       "# Frequently Asked Questions\n",
       "\n",
       "## If you can't find the answer to your question, please reach out on social\n",
       "media and I'll be happy to help.\n",
       "\n",
       "### How long will it take to complete the program?\n",
       "\n",
       "If you are attending the live sessions, you should set aside a minimum of 4\n",
       "hours every week during the three weeks of the program. This commitment will\n",
       "be enough for engineer leaders or anyone not interested in the coding portion\n",
       "of the program.\n",
       "\n",
       "Those interested in implementing the concepts discussed in class should set\n",
       "aside 2 to 4 hours weekly to complete the code walkthroughs and work on the\n",
       "assignments.\n",
       "\n",
       "### Are live sessions recorded?\n",
       "\n",
       "Yes, we record every live session. You can decide when to attend classes live\n",
       "or catch up asynchronously later using the recording.\n",
       "\n",
       "### I'm a complete beginner. Is this program helpful for me?\n",
       "\n",
       "This program is not an introduction to machine learning.\n",
       "\n",
       "While we'll discuss many fundamental ideas behind machine learning, beginners\n",
       "will find the sessions go much faster than what's optimal for them.\n",
       "\n",
       "### What does \"lifetime access\" mean?\n",
       "\n",
       "You only pay once to join the program and get immediate access to every past,\n",
       "present, and future cohort.\n",
       "\n",
       "Every new iteration of the program is better than the ones before. Many\n",
       "students take classes once and then join a later cohort to benefit from the\n",
       "updates.\n",
       "\n",
       "The lifetime access removes any pressure from having to complete the program\n",
       "when life gets in the way.\n",
       "\n",
       "![](/_next/image?url=%2F_next%2Fstatic%2Fmedia%2Fheadshot.8b69bb12.jpg&w=3840&q=75)\n",
       "\n",
       "# Hey! I'm Santiago.\n",
       "\n",
       "## I'm the instructor of the program.\n",
       "\n",
       "I'm a machine learning engineer with over two decades of experience building\n",
       "and scaling enterprise software and machine learning systems.\n",
       "\n",
       "I love neural networks. I love to make them work at scale.\n",
       "\n",
       "From 2009 to 2023, I built products for Disney, Boston Dynamics, IBM, Dell,\n",
       "G4S, Anheuser-Busch, and NextEra Energy, among other clients. I learned about\n",
       "trade-offs and how to create products that work.\n",
       "\n",
       "I started this program in March 2023. Since then, thousands of students have\n",
       "graduated, and I can't wait to meet you in class.\n",
       "\n",
       "[](https://twitter.com/svpino)[](https://linkedin.com/in/svpino)\n",
       "\n",
       "Copyright © 2024 Tideily LLC\n",
       "\n",
       "All rights reserved.\n",
       "\n"
      ],
      "text/plain": [
       "<IPython.core.display.Markdown object>"
      ]
     },
     "metadata": {},
     "output_type": "display_data"
    }
   ],
   "source": [
    "display(Markdown(reader[0].text))"
   ]
  },
  {
   "cell_type": "code",
   "execution_count": null,
   "metadata": {},
   "outputs": [],
   "source": []
  }
 ],
 "metadata": {
  "kernelspec": {
   "display_name": "Python 3",
   "language": "python",
   "name": "python3"
  },
  "language_info": {
   "codemirror_mode": {
    "name": "ipython",
    "version": 3
   },
   "file_extension": ".py",
   "mimetype": "text/x-python",
   "name": "python",
   "nbconvert_exporter": "python",
   "pygments_lexer": "ipython3",
   "version": "3.11.9"
  }
 },
 "nbformat": 4,
 "nbformat_minor": 2
}
